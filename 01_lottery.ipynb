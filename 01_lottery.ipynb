{
 "cells": [
  {
   "cell_type": "code",
   "execution_count": null,
   "metadata": {},
   "outputs": [],
   "source": [
    "# default_exp lottery"
   ]
  },
  {
   "cell_type": "code",
   "execution_count": null,
   "metadata": {},
   "outputs": [],
   "source": [
    "#hide\n",
    "%load_ext autoreload\n",
    "%autoreload 2"
   ]
  },
  {
   "cell_type": "markdown",
   "metadata": {},
   "source": [
    "# Do the lottery\n",
    "\n",
    "> The module `lottery` does a random assignement."
   ]
  },
  {
   "cell_type": "code",
   "execution_count": null,
   "metadata": {},
   "outputs": [],
   "source": [
    "#hide\n",
    "from nbdev.showdoc import *"
   ]
  },
  {
   "cell_type": "code",
   "execution_count": null,
   "metadata": {},
   "outputs": [],
   "source": [
    "#export\n",
    "import pandas as pd\n",
    "from pathlib2 import Path\n",
    "import random"
   ]
  },
  {
   "cell_type": "code",
   "execution_count": null,
   "metadata": {},
   "outputs": [],
   "source": [
    "#export\n",
    "def has_self_assignments(assignments):\n",
    "    'Returns `True` in case the list of touples `assignments` does not contain a touple consisting of the same values.'\n",
    "    for a in assignments:\n",
    "        if (a[0] == a[1]):\n",
    "            return True\n",
    "    return False"
   ]
  },
  {
   "cell_type": "code",
   "execution_count": null,
   "metadata": {},
   "outputs": [],
   "source": [
    "#export\n",
    "def get_assignemnts(li, allow_sa = False):\n",
    "    '''Assigne each item of a list `li` an item of the same list and return these touples.\n",
    "    In case of `allow_sa=False` self assignments are not allowed.'''\n",
    "    li_ = li.copy()\n",
    "    random.shuffle(li_)\n",
    "    a = list(zip(li, li_))\n",
    "    if not allow_sa:\n",
    "        while(has_self_assignments(a)):\n",
    "            a = get_assignemnts(li, allow_sa = True)\n",
    "    return a"
   ]
  },
  {
   "cell_type": "code",
   "execution_count": null,
   "metadata": {},
   "outputs": [
    {
     "name": "stdout",
     "output_type": "stream",
     "text": [
      "[(0, 3), (1, 6), (2, 8), (3, 5), (4, 7), (5, 9), (6, 1), (7, 4), (8, 2), (9, 0)]\n"
     ]
    }
   ],
   "source": [
    "l = [0, 1, 2, 3, 4, 5, 6, 7, 8, 9]\n",
    "a = get_assignemnts(l)\n",
    "print(a)"
   ]
  },
  {
   "cell_type": "code",
   "execution_count": null,
   "metadata": {},
   "outputs": [
    {
     "name": "stdout",
     "output_type": "stream",
     "text": [
      "[(0, 6), (1, 7), (2, 1), (3, 2), (4, 3), (5, 4), (6, 9), (7, 8), (8, 5), (9, 0)]\n"
     ]
    }
   ],
   "source": [
    "a = get_assignemnts(l, allow_sa = True)\n",
    "print(a)"
   ]
  },
  {
   "cell_type": "code",
   "execution_count": null,
   "metadata": {},
   "outputs": [],
   "source": []
  }
 ],
 "metadata": {
  "kernelspec": {
   "display_name": "Python 3",
   "language": "python",
   "name": "python3"
  }
 },
 "nbformat": 4,
 "nbformat_minor": 4
}
