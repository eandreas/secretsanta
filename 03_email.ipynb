{
 "cells": [
  {
   "cell_type": "code",
   "execution_count": null,
   "metadata": {},
   "outputs": [],
   "source": [
    "#hide\n",
    "%load_ext autoreload\n",
    "%autoreload 2"
   ]
  },
  {
   "cell_type": "code",
   "execution_count": null,
   "metadata": {},
   "outputs": [],
   "source": [
    "# default_exp email"
   ]
  },
  {
   "cell_type": "markdown",
   "metadata": {},
   "source": [
    "# Compose and send emails\n",
    "\n",
    "> Compose and send html emails through an SMTP server using TLS."
   ]
  },
  {
   "cell_type": "code",
   "execution_count": null,
   "metadata": {},
   "outputs": [],
   "source": [
    "#hide\n",
    "from nbdev.showdoc import *"
   ]
  },
  {
   "cell_type": "code",
   "execution_count": null,
   "metadata": {},
   "outputs": [],
   "source": [
    "#export\n",
    "import smtplib\n",
    "from email.message import EmailMessage\n",
    "import mimetypes\n",
    "from pathlib2 import Path\n",
    "import re"
   ]
  },
  {
   "cell_type": "markdown",
   "metadata": {},
   "source": [
    "## Complose a message"
   ]
  },
  {
   "cell_type": "code",
   "execution_count": null,
   "metadata": {},
   "outputs": [],
   "source": [
    "#export\n",
    "def create_html_message(from_address, to_addresses, subject, html, text = None, image_path = Path.cwd()):\n",
    "    msg = EmailMessage()\n",
    "    msg['From'] = from_address\n",
    "    msg['To'] = to_addresses\n",
    "    msg['Subject'] = subject\n",
    "    if text is not None:\n",
    "        msg.set_content(text)\n",
    "    msg.add_alternative(html, subtype='html')\n",
    "    \n",
    "    cid_images = list(re.findall(fr'<img src=\"cid:(.*?)\"', html))\n",
    "    cid_images.extend(list(re.findall(fr'url\\(cid:(.*?)\\)', html)))\n",
    "    cid_images = list(set(cid_images))\n",
    "    for cid_img in cid_images:\n",
    "        with open(image_path / cid_img, 'rb') as img:\n",
    "            msg.get_payload()[-1].add_related(img.read(),'image', 'jpeg', cid = cid_img)\n",
    "    return msg"
   ]
  },
  {
   "cell_type": "markdown",
   "metadata": {},
   "source": [
    "### Add an attachment to a message"
   ]
  },
  {
   "cell_type": "code",
   "execution_count": null,
   "metadata": {},
   "outputs": [],
   "source": [
    "#export\n",
    "def add_attachmet(msg, path):\n",
    "    \"Add an attachment with location `path` to the cunnet message `msg`.\"\n",
    "    # Guess the content type based on the file's extension.  Encoding\n",
    "    # will be ignored, although we should check for simple things like\n",
    "    # gzip'd or compressed files.\n",
    "    ctype, encoding = mimetypes.guess_type(path)\n",
    "    if ctype is None or encoding is not None:\n",
    "        # No guess could be made, or the file is encoded (compressed), so\n",
    "        # use a generic bag-of-bits type.\n",
    "        ctype = 'application/octet-stream'\n",
    "    maintype, subtype = ctype.split('/', 1)\n",
    "    with open(path, 'rb') as f:\n",
    "        msg.add_attachment(f.read(), maintype = maintype, subtype = subtype, filename = path.name)\n",
    "    return msg"
   ]
  },
  {
   "cell_type": "markdown",
   "metadata": {},
   "source": [
    "## Send a message using SMTP and TLS"
   ]
  },
  {
   "cell_type": "code",
   "execution_count": null,
   "metadata": {},
   "outputs": [],
   "source": [
    "#export\n",
    "def send_smtp_email(server, tls_port, user, pw, msg):\n",
    "    \"Send the message `msg` using the specified `server` and `port` - login using `user` and `pw`.\"\n",
    "    # Create a secure SSL context\n",
    "    try:\n",
    "        smtp = smtplib.SMTP(server, tls_port)\n",
    "        smtp.starttls()\n",
    "        smtp.login(user, pw)\n",
    "        smtp.send_message(msg)\n",
    "    except Exception as e:\n",
    "        print(e)\n",
    "    finally:\n",
    "        smtp.quit()"
   ]
  },
  {
   "cell_type": "markdown",
   "metadata": {},
   "source": [
    "## Examples"
   ]
  },
  {
   "cell_type": "markdown",
   "metadata": {},
   "source": [
    "The following is an example on how to compose and send a html-email message."
   ]
  },
  {
   "cell_type": "code",
   "execution_count": null,
   "metadata": {},
   "outputs": [],
   "source": [
    "## set user and password of the smtp server\n",
    "#user = ''\n",
    "#pw = ''\n",
    "#\n",
    "## send email from and to myself\n",
    "#from_email = user\n",
    "#to_email = ''\n",
    "#\n",
    "#html = \"\"\"\n",
    "#Hello, this is a test message!\n",
    "#<h1>Hello 22!</h1>\n",
    "#<img src=\"cid:email.jpg\">\n",
    "#<h1>Hello 23!</h1>\n",
    "#<img src=\"cid:iceberg.jpg\">\n",
    "#\"\"\"\n",
    "#\n",
    "#msg = create_html_message(from_email, to_email, 'subject', html, image_path=Path(''))\n",
    "#add_attachmet(msg, Path(''))\n",
    "#\n",
    "## uncomment after setting user and pw above\n",
    "##send_smtp_email('', 587, user, pw, msg)"
   ]
  },
  {
   "cell_type": "code",
   "execution_count": null,
   "metadata": {},
   "outputs": [],
   "source": []
  }
 ],
 "metadata": {
  "kernelspec": {
   "display_name": "Python 3",
   "language": "python",
   "name": "python3"
  }
 },
 "nbformat": 4,
 "nbformat_minor": 4
}
