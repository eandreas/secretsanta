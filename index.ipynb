{
 "cells": [
  {
   "cell_type": "code",
   "execution_count": null,
   "metadata": {},
   "outputs": [],
   "source": [
    "#hide\n",
    "%load_ext autoreload\n",
    "%autoreload 2"
   ]
  },
  {
   "cell_type": "code",
   "execution_count": null,
   "metadata": {},
   "outputs": [],
   "source": [
    "#hide\n",
    "from secretsanta.core import *\n",
    "from pathlib2 import Path"
   ]
  },
  {
   "cell_type": "markdown",
   "metadata": {},
   "source": [
    "# Project name here\n",
    "\n",
    "> Summary description here."
   ]
  },
  {
   "cell_type": "markdown",
   "metadata": {},
   "source": [
    "This file will become your README and also the index of your documentation."
   ]
  },
  {
   "cell_type": "markdown",
   "metadata": {},
   "source": [
    "## Install"
   ]
  },
  {
   "cell_type": "markdown",
   "metadata": {},
   "source": [
    "`pip install your_project_name`"
   ]
  },
  {
   "cell_type": "markdown",
   "metadata": {},
   "source": [
    "## How to use"
   ]
  },
  {
   "cell_type": "markdown",
   "metadata": {},
   "source": [
    "Fill me in please! Don't forget code examples:"
   ]
  },
  {
   "cell_type": "code",
   "execution_count": null,
   "metadata": {},
   "outputs": [
    {
     "name": "stdout",
     "output_type": "stream",
     "text": [
      "Participants:\n",
      "-------------\n",
      "John Doe (en, m): john.doe@gmail.com\n",
      "Jane Doe (en, f): jane.doe@gmail.com\n",
      "Hans Muster (de, m): hans.muster@gmail.com\n",
      "Marta Muster (de, f): marta.muster@gmail.com\n",
      "-------------\n",
      "Rule [must] failed: John --> Marta\n",
      "Rule [not] failed: Hans --> Marta\n",
      "Rule [not] failed: Jane --> John\n",
      "Rule [not] failed: Marta --> Hans\n",
      "Rule [not] failed: Jane --> John\n",
      "Rule [not] failed: Marta --> Hans\n",
      "Rule [must] failed: John --> Marta\n",
      "Rule [not] failed: Marta --> Hans\n",
      "Rule [must] failed: John --> Marta\n",
      "Rule [must] failed: John --> Marta\n",
      "Rule [not] failed: Hans --> Marta\n"
     ]
    }
   ],
   "source": [
    "sender_name = 'Santa Claus'\n",
    "sender_email = 'santa@claus.com'\n",
    "subject = 'Christmas Lottery'\n",
    "input_path = Path('input_data')\n",
    "\n",
    "lottery = SecretSanta(sender_name, sender_email, subject, input_path, True)"
   ]
  },
  {
   "cell_type": "code",
   "execution_count": null,
   "metadata": {},
   "outputs": [
    {
     "name": "stdout",
     "output_type": "stream",
     "text": [
      "Participants --> Presemtees:\n",
      "----------------------------\n",
      "John --> Marta\n",
      "Jane --> Hans\n",
      "Hans --> John\n",
      "Marta --> Jane\n",
      "----------------------------\n"
     ]
    }
   ],
   "source": [
    "lottery.print_assignments()"
   ]
  },
  {
   "cell_type": "code",
   "execution_count": null,
   "metadata": {},
   "outputs": [],
   "source": [
    "#hide\n",
    "#lottery.send_emails()"
   ]
  },
  {
   "cell_type": "markdown",
   "metadata": {},
   "source": [
    "## Send Mail from disk"
   ]
  },
  {
   "cell_type": "code",
   "execution_count": null,
   "metadata": {},
   "outputs": [],
   "source": [
    "from email.parser import BytesParser\n",
    "from email import policy\n",
    "\n",
    "# set user and password of the smtp server\n",
    "user = ''\n",
    "pw = ''\n",
    "\n",
    "name = 'Jane'\n",
    "fn_email = input_path / f'message_{name}.msg'\n",
    "\n",
    "with open(fn_email, 'rb') as fp:\n",
    "    email = BytesParser(policy=policy.default).parse(fp)\n",
    "\n",
    "# uncomment after setting user and pw above\n",
    "#send_smtp_email('host', port, user, pw, email)"
   ]
  },
  {
   "cell_type": "code",
   "execution_count": null,
   "metadata": {},
   "outputs": [
    {
     "name": "stdout",
     "output_type": "stream",
     "text": [
      "To: jane.doe@gmail.com\n",
      "From: Santa Claus <santa@claus.com>\n",
      "Subject: Christmas Lottery\n"
     ]
    }
   ],
   "source": [
    "print('To:', email['to'])\n",
    "print('From:', email['from'])\n",
    "print('Subject:', email['subject'])"
   ]
  },
  {
   "cell_type": "code",
   "execution_count": null,
   "metadata": {},
   "outputs": [
    {
     "name": "stdout",
     "output_type": "stream",
     "text": [
      "<!DOCTYPE html>\n",
      "<html>\n",
      "\n",
      "<head>\n",
      "    <title>Secret Santa</title>\n",
      "    <link rel=\"preconnect\" href=\"https://fonts.gstatic.com\">\n",
      "    <link href=\"https://fonts.googleapis.com/css2?family=Montserrat:wght@200&display=swap\" rel=\"stylesheet\">\n",
      "    <style>\n",
      "        div.main {\n",
      "            font-family: 'Montserrat', sans-serif;\n",
      "            font-size: 14px;\n",
      "            max-width: 600px;\n",
      "            margin: 20px 10% 10px 10%;\n",
      "        }\n",
      "    </style>\n",
      "</head>\n",
      "\n",
      "<body>\n",
      "    <div class=\"main\">\n",
      "        <img src=\"cid:santa.jpg\" alt=\"Santa Claus Image\" width=\"auto\">\n",
      "        <h1>Xmas Lottery 2020</h1>\n",
      "        <p>Dear Jane</p>\n",
      "        <p>Soon it will be Christmas again. Unfortunately, I am far behind with my preparations, so that I am dependent\n",
      "            on\n",
      "            your help.\n",
      "        </p>\n",
      "        <p>Could you organize a little present for <b>Hans</b> until Christmas and secretly put it under the\n",
      "            Christmas tree? That would be really wonderful ...\n",
      "        </p>\n",
      "        <p>Best regards<br>Santa Claus</p>\n",
      "    </div>\n",
      "</body>\n",
      "\n",
      "</html>\n",
      "\n"
     ]
    }
   ],
   "source": [
    "richest = email.get_body()\n",
    "body = richest.get_body(preferencelist=('html'))\n",
    "html = body.get_content()\n",
    "print(html)"
   ]
  },
  {
   "cell_type": "code",
   "execution_count": null,
   "metadata": {},
   "outputs": [
    {
     "name": "stdout",
     "output_type": "stream",
     "text": [
      "<!DOCTYPE html>\n",
      "<html>\n",
      "\n",
      "<head>\n",
      "    <title>Secret Santa</title>\n",
      "    <link rel=\"preconnect\" href=\"https://fonts.gstatic.com\">\n",
      "    <link href=\"https://fonts.googleapis.com/css2?family=Montserrat:wght@200&display=swap\" rel=\"stylesheet\">\n",
      "    <style>\n",
      "        div.main {\n",
      "            font-family: 'Montserrat', sans-serif;\n",
      "            font-size: 14px;\n",
      "            max-width: 600px;\n",
      "            margin: 20px 10% 10px 10%;\n",
      "        }\n",
      "    </style>\n",
      "</head>\n",
      "\n",
      "<body>\n",
      "    <div class=\"main\">\n",
      "        <img src=\"input_data/santa.jpg\" alt=\"Santa Claus Image\" width=\"auto\">\n",
      "        <h1>Xmas Lottery 2020</h1>\n",
      "        <p>Dear Jane</p>\n",
      "        <p>Soon it will be Christmas again. Unfortunately, I am far behind with my preparations, so that I am dependent\n",
      "            on\n",
      "            your help.\n",
      "        </p>\n",
      "        <p>Could you organize a little present for <b>Hans</b> until Christmas and secretly put it under the\n",
      "            Christmas tree? That would be really wonderful ...\n",
      "        </p>\n",
      "        <p>Best regards<br>Santa Claus</p>\n",
      "    </div>\n",
      "</body>\n",
      "\n",
      "</html>\n",
      "\n"
     ]
    }
   ],
   "source": [
    "import IPython\n",
    "\n",
    "html = html.replace('cid:santa.jpg', 'input_data/santa.jpg')\n",
    "print(html)"
   ]
  },
  {
   "cell_type": "code",
   "execution_count": null,
   "metadata": {},
   "outputs": [],
   "source": [
    "#hide\n",
    "# This is neede so the email is properly shonw even in the docs\n",
    "html = html.replace('input_data/santa.jpg', 'https://github.com/eandreas/xmas/raw/master/input_data/santa.jpg')"
   ]
  },
  {
   "cell_type": "code",
   "execution_count": null,
   "metadata": {},
   "outputs": [
    {
     "data": {
      "text/html": [
       "<!DOCTYPE html>\n",
       "<html>\n",
       "\n",
       "<head>\n",
       "    <title>Secret Santa</title>\n",
       "    <link rel=\"preconnect\" href=\"https://fonts.gstatic.com\">\n",
       "    <link href=\"https://fonts.googleapis.com/css2?family=Montserrat:wght@200&display=swap\" rel=\"stylesheet\">\n",
       "    <style>\n",
       "        div.main {\n",
       "            font-family: 'Montserrat', sans-serif;\n",
       "            font-size: 14px;\n",
       "            max-width: 600px;\n",
       "            margin: 20px 10% 10px 10%;\n",
       "        }\n",
       "    </style>\n",
       "</head>\n",
       "\n",
       "<body>\n",
       "    <div class=\"main\">\n",
       "        <img src=\"https://github.com/eandreas/xmas/raw/master/input_data/santa.jpg\" alt=\"Santa Claus Image\" width=\"auto\">\n",
       "        <h1>Xmas Lottery 2020</h1>\n",
       "        <p>Dear Jane</p>\n",
       "        <p>Soon it will be Christmas again. Unfortunately, I am far behind with my preparations, so that I am dependent\n",
       "            on\n",
       "            your help.\n",
       "        </p>\n",
       "        <p>Could you organize a little present for <b>Hans</b> until Christmas and secretly put it under the\n",
       "            Christmas tree? That would be really wonderful ...\n",
       "        </p>\n",
       "        <p>Best regards<br>Santa Claus</p>\n",
       "    </div>\n",
       "</body>\n",
       "\n",
       "</html>\n"
      ],
      "text/plain": [
       "<IPython.core.display.HTML object>"
      ]
     },
     "execution_count": null,
     "metadata": {},
     "output_type": "execute_result"
    }
   ],
   "source": [
    "IPython.display.HTML(data = html)"
   ]
  },
  {
   "cell_type": "code",
   "execution_count": null,
   "metadata": {},
   "outputs": [],
   "source": [
    "#hide\n",
    "# clean up\n",
    "%rm input_data/message_*.msg"
   ]
  },
  {
   "cell_type": "code",
   "execution_count": null,
   "metadata": {},
   "outputs": [],
   "source": []
  }
 ],
 "metadata": {
  "kernelspec": {
   "display_name": "Python 3",
   "language": "python",
   "name": "python3"
  }
 },
 "nbformat": 4,
 "nbformat_minor": 2
}
