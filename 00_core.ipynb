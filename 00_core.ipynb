{
 "cells": [
  {
   "cell_type": "code",
   "execution_count": null,
   "metadata": {},
   "outputs": [],
   "source": [
    "# default_exp core"
   ]
  },
  {
   "cell_type": "code",
   "execution_count": null,
   "metadata": {},
   "outputs": [],
   "source": [
    "#hide\n",
    "%load_ext autoreload\n",
    "%autoreload 2"
   ]
  },
  {
   "cell_type": "markdown",
   "metadata": {},
   "source": [
    "# SecretSanta\n",
    "\n",
    "> A class to generate and send emails in the name of Secret Santa. It reads a bunch of input data (csv-files, config.ini, html templates, images) to create personal html email messages for each participant."
   ]
  },
  {
   "cell_type": "code",
   "execution_count": null,
   "metadata": {},
   "outputs": [],
   "source": [
    "#hide\n",
    "from nbdev.showdoc import *"
   ]
  },
  {
   "cell_type": "code",
   "execution_count": null,
   "metadata": {},
   "outputs": [],
   "source": [
    "#export\n",
    "import pandas as pd\n",
    "from pathlib2 import Path\n",
    "from configparser import ConfigParser\n",
    "from secretsanta.lottery import *\n",
    "from secretsanta.replace import *\n",
    "from secretsanta.email import *\n",
    "import numpy as np\n",
    "import time"
   ]
  },
  {
   "cell_type": "code",
   "execution_count": null,
   "metadata": {},
   "outputs": [],
   "source": [
    "CONFIG_FN = 'config.ini'\n",
    "PARTICIPANTS_FN = 'participants.csv'\n",
    "REPLACEMENTS_FN = 'replacements.csv'\n",
    "HTML_TPL_BASE_FN = 'html_template_'\n",
    "RULES_FN = 'rules.ini'"
   ]
  },
  {
   "cell_type": "code",
   "execution_count": null,
   "metadata": {},
   "outputs": [],
   "source": [
    "#export\n",
    "class SecretSanta:\n",
    "    '''\n",
    "    Create and send emails in the name of Secret Santa.\n",
    "    '''\n",
    "    def __init__(self, sender_name, sender_email, subject, path, verbose = False):\n",
    "        self.sender_name = sender_name\n",
    "        self.sender_email = sender_email\n",
    "        self.subject = subject\n",
    "        self.n_max = 10000\n",
    "        self.path = path\n",
    "        self.__read_inputs(path, verbose)\n",
    "        self.__shuffle(verbose)\n",
    "        self.__create_emails(path, verbose)\n",
    "    \n",
    "    def __read_inputs(self, path, verbose = False):\n",
    "        self.__read_config(path)\n",
    "        self.__read_participants(path, verbose)\n",
    "        self.__read_replacements(path)\n",
    "        self.__read_rules(path)\n",
    "    \n",
    "    def __read_config(self, path):\n",
    "        # TODO: add parameter verbose\n",
    "        config = ConfigParser()\n",
    "        cf_path = path / CONFIG_FN\n",
    "        n = len(config.read(cf_path))\n",
    "        if n < 1 :\n",
    "            raise SystemExit(f'Error while reading config file - file not found: {cf_path.absolute()}')\n",
    "        self.config = config\n",
    "    \n",
    "    def __read_participants(self, path, verbose = False):\n",
    "        csv = path / PARTICIPANTS_FN\n",
    "        try:\n",
    "            # read all participants from csv, read only specified columns and trim spaces\n",
    "            self.participants = pd.read_csv(\n",
    "                csv,\n",
    "                usecols = ['first_name', 'last_name', 'language', 'sex', 'email'],\n",
    "                skipinitialspace=True,\n",
    "                comment = '#'\n",
    "            )\n",
    "        except ValueError as e:\n",
    "            raise SystemExit(f'Error while reading participants csv - {e}')\n",
    "        except FileNotFoundError as e:\n",
    "            raise SystemExit(f'Error while reading participants csv - file not found: {csv.absolute()}')\n",
    "        if verbose:\n",
    "            self.print_participants()\n",
    "    \n",
    "    def __read_replacements(self, path):\n",
    "        #TODO: add parameter verbose\n",
    "        csv = path / REPLACEMENTS_FN\n",
    "        try:\n",
    "            self.replacements = pd.read_csv(\n",
    "                csv,\n",
    "                usecols = ['variable', 'language', 'sex', 'replacement'],\n",
    "                skipinitialspace=True\n",
    "            )\n",
    "        except ValueError as e:\n",
    "            raise SystemExit(f'Error while reading replaements csv - {e}')\n",
    "        except FileNotFoundError as e:\n",
    "            raise SystemExit(f'Error while reading replacements csv - file not found: {csv.absolute()}')\n",
    "    \n",
    "    def __read_rules(self, path):\n",
    "        # TODO: add parameter verbose\n",
    "        rules = ConfigParser()\n",
    "        rules.optionxform = str\n",
    "        cf_path = path / RULES_FN\n",
    "        rules.read(cf_path)\n",
    "        self.rules = rules\n",
    "        \n",
    "    def __check_rules(self, verbose = False):\n",
    "        check = True\n",
    "        for sec in self.rules.sections():\n",
    "            for opt in self.rules.options(sec):\n",
    "                for val in self.rules.get(sec, opt).split(','):\n",
    "                    val = val.strip()\n",
    "                    for a in self.assignments:\n",
    "                        if ((sec == 'must') and (a[0] == opt) and (a[1] != val)):\n",
    "                            check =  False\n",
    "                            if verbose:\n",
    "                                print(f'Rule [{sec}] failed: {opt} --> {val}')\n",
    "                        if ((sec == 'not') and (a[0] == opt) and (a[1] == val)):\n",
    "                            check = False\n",
    "                            if verbose:\n",
    "                                print(f'Rule [{sec}] failed: {opt} --> {val}')\n",
    "        return check\n",
    "    \n",
    "    def __shuffle(self, verbose = False):\n",
    "        '''\n",
    "        Assigns each participant another participant (no self assignments) as presentee.\n",
    "        '''\n",
    "        self.participants.first_name.values\n",
    "        for i in range(self.n_max):\n",
    "            self.assignments = get_assignemnts(self.participants.first_name.values)\n",
    "            if (self.__check_rules(verbose)):\n",
    "                return self.assignments\n",
    "        raise Exception(f'No assignment found within {self.n_max} random trials. Check the number of participants and corresponding rules.')\n",
    "    \n",
    "    def __create_emails(self, path, verbose = False, out = None):\n",
    "        '''\n",
    "        For each participant an email message is created but not sent yet. Based on the participants, \n",
    "        replacements (both read earlier from separate csv files) and html-template file within the directory\n",
    "        `path`, the following tasks are performed:\n",
    "        \n",
    "        1. Loop over the participants\n",
    "        2. Create a dictionary based on the replacements from csv file\n",
    "        3. Add to entries to the replacements dictionary: PERSON and PRESENTEE to replace them by the\n",
    "           corresponding first names\n",
    "        4. Apply all text replacements, then create and add the email message to the list of email messages\n",
    "        5. Save the generated email within directory `out` (backup to resend to single participants if necessary)\n",
    "        '''\n",
    "        if out is None:\n",
    "            out = path\n",
    "        self.emails = list()\n",
    "        for idx, row in self.participants.iterrows():\n",
    "            html_tpl = self.__read_html_tpl(path, row.language)\n",
    "            d = self.__get_replacements(row.language, row.sex)\n",
    "            d.update({'PERSON': row.first_name})\n",
    "            d.update({'PRESENTEE': self.__get_presentee(row.first_name)})\n",
    "            v = get_variables(html_tpl)\n",
    "            missing = np.setdiff1d(list(v), list(d.keys()))\n",
    "            if len(missing) > 0:\n",
    "                raise SystemExit(f'No replacement found for {missing} within {(path / REPLACEMENTS_FN).absolute()}')\n",
    "            html = replace_vars(html_tpl, d)\n",
    "            email = create_html_message(f'{self.sender_name} <{self.sender_email}>', row.email, self.subject, html, '', image_path = path)\n",
    "            self.emails.append(email)\n",
    "            with open(out / f'message_{row.first_name}.msg', 'wb') as f:\n",
    "                f.write(bytes(email))\n",
    "        \n",
    "    def __read_html_tpl(self, path, lang):\n",
    "        html_tpl_fn = path / (HTML_TPL_BASE_FN + lang + '.html')\n",
    "        try:\n",
    "            f = open(html_tpl_fn)\n",
    "            html_tpl = f.read()\n",
    "        except FileNotFoundError as e:\n",
    "            raise SystemExit(f'Error while reading temlate message ({lang}) - file not found: {html_tpl_fn.absolute()}')\n",
    "        finally:\n",
    "            f.close()\n",
    "        return html_tpl\n",
    "        \n",
    "    def __get_replacements(self, language, sex):\n",
    "        d = dict()\n",
    "        for idx, row in self.replacements[(self.replacements.language == language) & (self.replacements.sex == sex)].iterrows():\n",
    "            d.update({row.variable: row.replacement})\n",
    "        return d\n",
    "    \n",
    "    def __get_presentee(self, person):\n",
    "        for i in range(len(self.assignments)):\n",
    "            if self.assignments[i][0] == person:\n",
    "                return self.assignments[i][1]\n",
    "        return None\n",
    "    \n",
    "    def print_participants(self):\n",
    "        '''\n",
    "        Print all participants with corresponding information (first/last name, language,\n",
    "        gender, email address) read from csv.\n",
    "        '''\n",
    "        print('Participants:')\n",
    "        print('-------------')\n",
    "        for idx, row in self.participants.iterrows():\n",
    "            print(f'{row.first_name} {row.last_name} ({row.language}, {row.sex}): {row.email}')\n",
    "        print('-------------')\n",
    "    \n",
    "    def print_assignments(self):\n",
    "        '''\n",
    "        Print all participants together with the currently assigned presentees.\n",
    "        '''\n",
    "        print('Participants --> Presemtees:')\n",
    "        print('----------------------------')\n",
    "        for a in self.assignments:\n",
    "            print(f'{a[0]} --> {a[1]}')\n",
    "        print('----------------------------')\n",
    "    \n",
    "    def send_emails(self, sleep_sec = 5):\n",
    "        '''\n",
    "        Send the Secret Santa email messages to its recipients.\n",
    "        '''\n",
    "        server = self.config['smtp']['server']\n",
    "        port = self.config['smtp']['port']\n",
    "        user = self.config['smtp']['user']\n",
    "        pwd = self.config['smtp']['password']\n",
    "        for email in self.emails:\n",
    "            send_smtp_email(server, port, user, pwd, email)\n",
    "            time.sleep(sleep_sec)"
   ]
  },
  {
   "cell_type": "code",
   "execution_count": null,
   "metadata": {},
   "outputs": [
    {
     "data": {
      "text/markdown": [
       "<h4 id=\"SecretSanta.print_assignments\" class=\"doc_header\"><code>SecretSanta.print_assignments</code><a href=\"__main__.py#L163\" class=\"source_link\" style=\"float:right\">[source]</a></h4>\n",
       "\n",
       "> <code>SecretSanta.print_assignments</code>()\n",
       "\n",
       "Print all participants together with the currently assigned presentees."
      ],
      "text/plain": [
       "<IPython.core.display.Markdown object>"
      ]
     },
     "metadata": {},
     "output_type": "display_data"
    }
   ],
   "source": [
    "show_doc(SecretSanta.print_assignments)"
   ]
  },
  {
   "cell_type": "code",
   "execution_count": null,
   "metadata": {},
   "outputs": [
    {
     "data": {
      "text/markdown": [
       "<h4 id=\"SecretSanta.send_emails\" class=\"doc_header\"><code>SecretSanta.send_emails</code><a href=\"__main__.py#L173\" class=\"source_link\" style=\"float:right\">[source]</a></h4>\n",
       "\n",
       "> <code>SecretSanta.send_emails</code>(**`sleep_sec`**=*`5`*)\n",
       "\n",
       "Send the Secret Santa email messages to its recipients."
      ],
      "text/plain": [
       "<IPython.core.display.Markdown object>"
      ]
     },
     "metadata": {},
     "output_type": "display_data"
    }
   ],
   "source": [
    "show_doc(SecretSanta.send_emails)"
   ]
  },
  {
   "cell_type": "code",
   "execution_count": null,
   "metadata": {},
   "outputs": [
    {
     "data": {
      "text/markdown": [
       "<h4 id=\"SecretSanta.print_participants\" class=\"doc_header\"><code>SecretSanta.print_participants</code><a href=\"__main__.py#L152\" class=\"source_link\" style=\"float:right\">[source]</a></h4>\n",
       "\n",
       "> <code>SecretSanta.print_participants</code>()\n",
       "\n",
       "Print all participants with corresponding information (first/last name, language,\n",
       "gender, email address) read from csv."
      ],
      "text/plain": [
       "<IPython.core.display.Markdown object>"
      ]
     },
     "metadata": {},
     "output_type": "display_data"
    }
   ],
   "source": [
    "show_doc(SecretSanta.print_participants)"
   ]
  },
  {
   "cell_type": "code",
   "execution_count": null,
   "metadata": {},
   "outputs": [],
   "source": []
  }
 ],
 "metadata": {
  "kernelspec": {
   "display_name": "Python 3",
   "language": "python",
   "name": "python3"
  }
 },
 "nbformat": 4,
 "nbformat_minor": 2
}
